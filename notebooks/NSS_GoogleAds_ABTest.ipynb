{
 "cells": [
  {
   "cell_type": "markdown",
   "metadata": {},
   "source": [
    "#### The Experiment\n",
    "\n",
    "### A\n",
    "![setup A](../images/variant_A_setup.png)\n",
    "\n",
    "\n",
    "### B\n",
    "\n",
    "![setup B](../images/variant_B_setup.png)"
   ]
  },
  {
   "cell_type": "markdown",
   "metadata": {},
   "source": [
    "#### The Results\n",
    "\n",
    "### A\n",
    "![variant A](../images/variant_A_results.png)\n",
    "\n",
    "### B\n",
    "![variant B](../images/variant_B_results.png)"
   ]
  },
  {
   "cell_type": "markdown",
   "metadata": {},
   "source": [
    "#### You can load the test results from the `google_ad_results.csv` file.\n",
    "\n",
    "**Using a markdown cell**    \n",
    "1. State the null and alternative hypotheses\n",
    "2. What is the single variant (difference) between your A and B groups?\n",
    "3. How is random assignment to each group accomplished?\n",
    "3. What is the target outcome to measure (your point statistic)?\n",
    "4. Historically, there has been around a 1.50% click-through rate for NSS google ads. If you want to detect a 1% difference, what sample size is needed for 80% power?\n",
    "5. Do you have a sufficient sample size?    \n",
    "\n",
    "**Using code cells**\n",
    "1. Calculate the click-through rate for each group:    \n",
    "2. Determine the margin of error at the 95% confidence level.\n",
    "3. Determine the p-value.\n",
    "\n",
    "**Be prepared to share your opinion on whether you will accept or reject the null hypothesis.**"
   ]
  },
  {
   "cell_type": "code",
   "execution_count": null,
   "metadata": {},
   "outputs": [],
   "source": []
  }
 ],
 "metadata": {
  "kernelspec": {
   "display_name": "Python 3",
   "language": "python",
   "name": "python3"
  },
  "language_info": {
   "codemirror_mode": {
    "name": "ipython",
    "version": 3
   },
   "file_extension": ".py",
   "mimetype": "text/x-python",
   "name": "python",
   "nbconvert_exporter": "python",
   "pygments_lexer": "ipython3",
   "version": "3.8.5"
  }
 },
 "nbformat": 4,
 "nbformat_minor": 4
}
