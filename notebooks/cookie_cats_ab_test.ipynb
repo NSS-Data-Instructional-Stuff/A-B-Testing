{
 "cells": [
  {
   "cell_type": "markdown",
   "metadata": {},
   "source": [
    "### [Cookie Cats](https://www.youtube-nocookie.com/embed/GaP5f0jVTWE) is a popular mobile game where players work to clear a board and advance by connecting three matching tiles "
   ]
  },
  {
   "cell_type": "markdown",
   "metadata": {},
   "source": [
    "#### The data you will be analyzing in this practice notebbok was retrieved from [kaggle](https://www.kaggle.com/yufengsui/mobile-games-ab-testing) but originated as part of a [DataCamp project](https://learn.datacamp.com/projects/184). The variables in the dataset are:\n",
    "**userid** - a unique identifier for each player    \n",
    "**version** - whether the player was put in the control group (gate_30) or the experimental group (gate_40)  \n",
    "**sum_gamerounds** - the number of game rounds played by the player during the first 14 days after installation    \n",
    "**retention_1** - did the player return to play the game 1 day after installing?  \n",
    "**retention_7** - did the player return to play the game 7 days after installing?  \n"
   ]
  },
  {
   "cell_type": "markdown",
   "metadata": {},
   "source": [
    "#### An A/B Test was designed and run to see if users would be more likely to continue playing Cookie Cats 7 days after installing it if they could play to level 40 before encountering a gate instead of hitting their first gate at level 30\n",
    " - Gates are used in the game to require a user to wait before continuing play _unless_ they make an in-app purchase. \n",
    " - Two versions of the game were created. One presented the first gate at level 30 (Group A) and the other presented the first gate at level 40 (Group B)\n",
    " - Users were randomly assigned to Group A or Group B when they downloaded the app\n",
    " - A sample of 45,000 users in each group was determined to be sufficient to measure an effect"
   ]
  },
  {
   "cell_type": "code",
   "execution_count": null,
   "metadata": {},
   "outputs": [],
   "source": [
    "import pandas as pd\n",
    "import numpy as np\n",
    "from scipy.stats import norm\n",
    "from statsmodels.stats.proportion import proportions_ztest"
   ]
  },
  {
   "cell_type": "markdown",
   "metadata": {},
   "source": [
    "#### Get the results of your experiment by loading `cookies_cats.csv`"
   ]
  },
  {
   "cell_type": "code",
   "execution_count": null,
   "metadata": {},
   "outputs": [],
   "source": [
    "results = pd.read_csv('../data/cookie_cats.csv')\n",
    "results.head()"
   ]
  },
  {
   "cell_type": "code",
   "execution_count": null,
   "metadata": {},
   "outputs": [],
   "source": [
    "results.shape"
   ]
  },
  {
   "cell_type": "code",
   "execution_count": null,
   "metadata": {},
   "outputs": [],
   "source": [
    "results.version.value_counts()"
   ]
  },
  {
   "cell_type": "code",
   "execution_count": null,
   "metadata": {},
   "outputs": [],
   "source": [
    "[groupB_obs, groupA_obs] = results.version.value_counts().values"
   ]
  },
  {
   "cell_type": "markdown",
   "metadata": {},
   "source": [
    "#### First we will calculate the 1-day retention rate and evaluate it for statistical significance together as a warmup exercise\n",
    " - find the number of players in each group who returned after 1 day\n",
    " - for the point estimates, calculate the proportion of all players in each group who returned by dividing the total number for each group by the count of the players who returned"
   ]
  },
  {
   "cell_type": "code",
   "execution_count": null,
   "metadata": {},
   "outputs": [],
   "source": [
    "results.groupby('version')['retention_1'].agg('sum')"
   ]
  },
  {
   "cell_type": "markdown",
   "metadata": {},
   "source": [
    "- The code in the cell above sums up the rows where the retention_1 is true for each version of the game, giving us the number of users in each group that returned to play the game 1 day after installing it\n",
    "- In the next cell we'll save those values to an array "
   ]
  },
  {
   "cell_type": "code",
   "execution_count": null,
   "metadata": {},
   "outputs": [],
   "source": [
    "[groupA_1day_count, groupB_1day_count] = results.groupby('version')['retention_1'].agg('sum').values"
   ]
  },
  {
   "cell_type": "code",
   "execution_count": null,
   "metadata": {},
   "outputs": [],
   "source": [
    "results.groupby('version')['retention_1'].agg('sum') / results.groupby('version')['retention_1'].count()"
   ]
  },
  {
   "cell_type": "markdown",
   "metadata": {},
   "source": [
    "- In the cell above we calculate the proportion of users in each group who returned to the game after one day by dividing the number in each group who returned by the total number assigned to the respective group\n",
    "- We'll save those proportions to an array below"
   ]
  },
  {
   "cell_type": "code",
   "execution_count": null,
   "metadata": {},
   "outputs": [],
   "source": [
    "[groupA_est, groupB_est] = results.groupby('version')['retention_1'].agg('sum') / results.groupby('version')['retention_1'].count()"
   ]
  },
  {
   "cell_type": "code",
   "execution_count": null,
   "metadata": {},
   "outputs": [],
   "source": [
    "print('Number of observations group A:', groupA_obs)\n",
    "print('Number of observations group B:', groupB_obs)\n",
    "print('Proportion retained for 1-day group A:', groupA_est)\n",
    "print('Proportion retained for 1-day group B:', groupB_est)"
   ]
  },
  {
   "cell_type": "markdown",
   "metadata": {},
   "source": [
    "#### We can use the retention estimates to determine the margin of error\n",
    " - First calculate the z-score:  \n",
    "  ```z = norm.ppf(1 - (1 - conf_level) / 2)```   \n",
    "  \n",
    " - Then calculate the margin of error for each point estimate:   \n",
    " ```margin_of_error = 100 * z * np.sqrt(est * (1 - est) / num_obs)```\n",
    "    \n",
    "where `est` is the point estimate and `num_obs` is the number of observations"
   ]
  },
  {
   "cell_type": "code",
   "execution_count": null,
   "metadata": {},
   "outputs": [],
   "source": [
    "# using a 95% confidence interval\n",
    "conf_level = 0.95\n",
    "\n",
    "\n",
    "z = norm.ppf(1 - (1 - conf_level) / 2)\n",
    "\n",
    "\n",
    "margin_of_error_a = z * np.sqrt(groupA_est * (1 - groupA_est) / groupA_obs)\n",
    "margin_of_error_b = z * np.sqrt(groupB_est * (1 - groupB_est) / groupB_obs)"
   ]
  },
  {
   "cell_type": "code",
   "execution_count": null,
   "metadata": {},
   "outputs": [],
   "source": [
    "print('The 95% Confidence Interval for 1-day retention for Group A is between\\n',\n",
    "      groupA_est - margin_of_error_a, 'and', groupA_est + margin_of_error_a)\n",
    "print('')\n",
    "print('The 95% Confidence Interval for 1-day retention for Group B is between\\n',\n",
    "      groupB_est - margin_of_error_b, 'and', groupB_est + margin_of_error_b)"
   ]
  },
  {
   "cell_type": "markdown",
   "metadata": {},
   "source": [
    "#### You can use the `proportions_ztest()` method from *statsmodels.stats.proportion* to calculate the p-value"
   ]
  },
  {
   "cell_type": "code",
   "execution_count": null,
   "metadata": {},
   "outputs": [],
   "source": [
    "test_statistic, p_value = proportions_ztest(count = [groupA_1day_count, groupB_1day_count], \n",
    "                  nobs = [groupA_obs, groupB_obs])"
   ]
  },
  {
   "cell_type": "code",
   "execution_count": null,
   "metadata": {},
   "outputs": [],
   "source": [
    "p_value"
   ]
  },
  {
   "cell_type": "markdown",
   "metadata": {},
   "source": [
    "#### Your turn: determine if the version of Cookie Cats that does not present a gate until level 40 retains more users by the 7th day than the version that presents a gate at level 30, and determine if the difference rate is statistically significant\n",
    "**Using a markdown cell**    \n",
    "1. State the null and alternative hypotheses\n",
    "2. What is the single variant (difference) between your A and B groups?\n",
    "3. How is random assignment to each group accomplished?\n",
    "3. What is the target outcome to measure (your point statistic)?\n",
    "4. Has a sufficient sample size been determined?    \n",
    "\n",
    "**Using code cells**\n",
    "1. Calculate the following for each group:\n",
    "    a. number of observations\n",
    "    b. number retained for 7 days\n",
    "    c. proportion retained for 7 days\n",
    "2. Determine the margin of error at the 95% confidence level.\n",
    "3. Determine the p-value.\n",
    "\n",
    "**Be prepared to share your opinion on whether you will accept or rejact the null hypothesis.**"
   ]
  },
  {
   "cell_type": "code",
   "execution_count": null,
   "metadata": {},
   "outputs": [],
   "source": []
  },
  {
   "cell_type": "code",
   "execution_count": null,
   "metadata": {},
   "outputs": [],
   "source": []
  }
 ],
 "metadata": {
  "kernelspec": {
   "display_name": "Python 3",
   "language": "python",
   "name": "python3"
  },
  "language_info": {
   "codemirror_mode": {
    "name": "ipython",
    "version": 3
   },
   "file_extension": ".py",
   "mimetype": "text/x-python",
   "name": "python",
   "nbconvert_exporter": "python",
   "pygments_lexer": "ipython3",
   "version": "3.8.5"
  }
 },
 "nbformat": 4,
 "nbformat_minor": 4
}
