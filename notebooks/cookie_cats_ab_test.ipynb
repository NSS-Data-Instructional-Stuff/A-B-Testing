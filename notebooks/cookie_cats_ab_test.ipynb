{
 "cells": [
  {
   "cell_type": "markdown",
   "metadata": {},
   "source": [
    "### [Cookie Cats](https://www.youtube-nocookie.com/embed/GaP5f0jVTWE) is a popular mobile game where players work to clear a board and advance by connecting three matching tiles "
   ]
  },
  {
   "cell_type": "markdown",
   "metadata": {},
   "source": [
    "#### The data you will be analyzing in this practice notebook was retrieved from [kaggle](https://www.kaggle.com/yufengsui/mobile-games-ab-testing) but originated as part of a [DataCamp project](https://learn.datacamp.com/projects/184). The variables in the dataset are:\n",
    "**userid** - a unique identifier for each player    \n",
    "**version** - whether the player was put in the control group (gate_30) or the experimental group (gate_40)  \n",
    "**sum_gamerounds** - the number of game rounds played by the player during the first 14 days after installation    \n",
    "**retention_1** - did the player return to play the game 1 day after installing?  \n",
    "**retention_7** - did the player return to play the game 7 days after installing?  \n"
   ]
  },
  {
   "cell_type": "markdown",
   "metadata": {},
   "source": [
    "#### An A/B Test was designed and run to see if users would be more or less likely to continue playing Cookie Cats 7 days after installing it if they could play to level 40 before encountering a gate instead of hitting their first gate at level 30\n",
    " - Gates are used in the game to require a user to wait before continuing play _unless_ they make an in-app purchase. \n",
    " - Two versions of the game were created. One presented the first gate at level 30 (Group A) and the other presented the first gate at level 40 (Group B)\n",
    " - Users were randomly assigned to Group A or Group B when they downloaded the app\n",
    " - A sample of 40,000 users in each group was determined to be sufficient to measure an effect"
   ]
  },
  {
   "cell_type": "code",
   "execution_count": 1,
   "metadata": {},
   "outputs": [],
   "source": [
    "import pandas as pd\n",
    "import numpy as np\n",
    "from scipy.stats import norm\n",
    "from statsmodels.stats.proportion import proportions_ztest\n",
    "import matplotlib.pyplot as plt\n",
    "\n",
    "from abtesting import power, min_sample_size\n",
    "\n",
    "%matplotlib inline"
   ]
  },
  {
   "cell_type": "markdown",
   "metadata": {},
   "source": [
    "#### Get the results of your experiment by loading `cookies_cats.csv`"
   ]
  },
  {
   "cell_type": "code",
   "execution_count": 2,
   "metadata": {},
   "outputs": [
    {
     "data": {
      "text/html": [
       "<div>\n",
       "<style scoped>\n",
       "    .dataframe tbody tr th:only-of-type {\n",
       "        vertical-align: middle;\n",
       "    }\n",
       "\n",
       "    .dataframe tbody tr th {\n",
       "        vertical-align: top;\n",
       "    }\n",
       "\n",
       "    .dataframe thead th {\n",
       "        text-align: right;\n",
       "    }\n",
       "</style>\n",
       "<table border=\"1\" class=\"dataframe\">\n",
       "  <thead>\n",
       "    <tr style=\"text-align: right;\">\n",
       "      <th></th>\n",
       "      <th>userid</th>\n",
       "      <th>version</th>\n",
       "      <th>sum_gamerounds</th>\n",
       "      <th>retention_1</th>\n",
       "      <th>retention_7</th>\n",
       "    </tr>\n",
       "  </thead>\n",
       "  <tbody>\n",
       "    <tr>\n",
       "      <th>0</th>\n",
       "      <td>116</td>\n",
       "      <td>gate_30</td>\n",
       "      <td>3</td>\n",
       "      <td>False</td>\n",
       "      <td>False</td>\n",
       "    </tr>\n",
       "    <tr>\n",
       "      <th>1</th>\n",
       "      <td>337</td>\n",
       "      <td>gate_30</td>\n",
       "      <td>38</td>\n",
       "      <td>True</td>\n",
       "      <td>False</td>\n",
       "    </tr>\n",
       "    <tr>\n",
       "      <th>2</th>\n",
       "      <td>377</td>\n",
       "      <td>gate_40</td>\n",
       "      <td>165</td>\n",
       "      <td>True</td>\n",
       "      <td>False</td>\n",
       "    </tr>\n",
       "    <tr>\n",
       "      <th>3</th>\n",
       "      <td>483</td>\n",
       "      <td>gate_40</td>\n",
       "      <td>1</td>\n",
       "      <td>False</td>\n",
       "      <td>False</td>\n",
       "    </tr>\n",
       "    <tr>\n",
       "      <th>4</th>\n",
       "      <td>488</td>\n",
       "      <td>gate_40</td>\n",
       "      <td>179</td>\n",
       "      <td>True</td>\n",
       "      <td>True</td>\n",
       "    </tr>\n",
       "  </tbody>\n",
       "</table>\n",
       "</div>"
      ],
      "text/plain": [
       "   userid  version  sum_gamerounds  retention_1  retention_7\n",
       "0     116  gate_30               3        False        False\n",
       "1     337  gate_30              38         True        False\n",
       "2     377  gate_40             165         True        False\n",
       "3     483  gate_40               1        False        False\n",
       "4     488  gate_40             179         True         True"
      ]
     },
     "execution_count": 2,
     "metadata": {},
     "output_type": "execute_result"
    }
   ],
   "source": [
    "results = pd.read_csv('../data/cookie_cats.csv')\n",
    "results.head()"
   ]
  },
  {
   "cell_type": "markdown",
   "metadata": {},
   "source": [
    "You want to run an A/B test to determine if there is a statistically significant difference between the one-day retention rate for players who were presented the gate at level 30 compared to those who were presented the gate at level 40.\n",
    "\n",
    "First, you need to state your null and alternative hypotheses.\n",
    "\n",
    "**Null Hypothesis:** There is no difference in one-day retention rates for level 30 players compared to level 40 players.\n",
    "\n",
    "**Alternative Hypothesis:** The one-day retention rate for level 30 players is different than the one-day retention rate for level 40 players.\n",
    "\n",
    "You also need to set your significance level. (**Question:** What is a significance level?) For this example, we'll use a significance level of 0.05. "
   ]
  },
  {
   "cell_type": "markdown",
   "metadata": {},
   "source": [
    "Historically, there there has been around a 44% 1-day retention rate. You are looking to detect a 1% absolute difference between versions.\n",
    "\n",
    "**Question:** What sample size do you need for your test to have 80% power? (What is power?) Is the sample that you have sufficient in order to achieve 80% power?\n",
    "\n",
    "**_reminder: you can enter a function name with a `?` to see info about a function_**"
   ]
  },
  {
   "cell_type": "code",
   "execution_count": 3,
   "metadata": {},
   "outputs": [
    {
     "data": {
      "text/plain": [
       "38705"
      ]
     },
     "execution_count": 3,
     "metadata": {},
     "output_type": "execute_result"
    }
   ],
   "source": [
    "# The needed sample size\n",
    "min_sample_size(baseline = 0.44, min_effect = 0.01, desired_power = 0.8)"
   ]
  },
  {
   "cell_type": "markdown",
   "metadata": {},
   "source": [
    "This says that you need 38,705 observations per variant. Now, you can check whether or not you have the needed sample size."
   ]
  },
  {
   "cell_type": "code",
   "execution_count": 4,
   "metadata": {},
   "outputs": [
    {
     "data": {
      "text/plain": [
       "gate_40    45489\n",
       "gate_30    44700\n",
       "Name: version, dtype: int64"
      ]
     },
     "execution_count": 4,
     "metadata": {},
     "output_type": "execute_result"
    }
   ],
   "source": [
    "results.version.value_counts()"
   ]
  },
  {
   "cell_type": "markdown",
   "metadata": {},
   "source": [
    "There are more than enough observations to achieve 80% power."
   ]
  },
  {
   "cell_type": "markdown",
   "metadata": {},
   "source": [
    "You can also find the exact power using the `power` function. You should use the smaller number of group observations for the `sample_size` argument."
   ]
  },
  {
   "cell_type": "code",
   "execution_count": 5,
   "metadata": {},
   "outputs": [
    {
     "data": {
      "text/plain": [
       "0.8532809224120653"
      ]
     },
     "execution_count": 5,
     "metadata": {},
     "output_type": "execute_result"
    }
   ],
   "source": [
    "power(baseline = 0.44, min_effect = 0.01, sample_size = 44700)"
   ]
  },
  {
   "cell_type": "markdown",
   "metadata": {},
   "source": [
    "Now, you can calculate some point estimates. \n",
    "\n",
    "First, use `.groupby` to find the number of players that returned after one day and the total number of players per group."
   ]
  },
  {
   "cell_type": "code",
   "execution_count": 6,
   "metadata": {},
   "outputs": [],
   "source": [
    "retention_1 = results.groupby('version')['retention_1'].agg(['sum', 'count'])"
   ]
  },
  {
   "cell_type": "code",
   "execution_count": 7,
   "metadata": {},
   "outputs": [
    {
     "data": {
      "text/html": [
       "<div>\n",
       "<style scoped>\n",
       "    .dataframe tbody tr th:only-of-type {\n",
       "        vertical-align: middle;\n",
       "    }\n",
       "\n",
       "    .dataframe tbody tr th {\n",
       "        vertical-align: top;\n",
       "    }\n",
       "\n",
       "    .dataframe thead th {\n",
       "        text-align: right;\n",
       "    }\n",
       "</style>\n",
       "<table border=\"1\" class=\"dataframe\">\n",
       "  <thead>\n",
       "    <tr style=\"text-align: right;\">\n",
       "      <th></th>\n",
       "      <th>sum</th>\n",
       "      <th>count</th>\n",
       "    </tr>\n",
       "    <tr>\n",
       "      <th>version</th>\n",
       "      <th></th>\n",
       "      <th></th>\n",
       "    </tr>\n",
       "  </thead>\n",
       "  <tbody>\n",
       "    <tr>\n",
       "      <th>gate_30</th>\n",
       "      <td>20034</td>\n",
       "      <td>44700</td>\n",
       "    </tr>\n",
       "    <tr>\n",
       "      <th>gate_40</th>\n",
       "      <td>20119</td>\n",
       "      <td>45489</td>\n",
       "    </tr>\n",
       "  </tbody>\n",
       "</table>\n",
       "</div>"
      ],
      "text/plain": [
       "           sum  count\n",
       "version              \n",
       "gate_30  20034  44700\n",
       "gate_40  20119  45489"
      ]
     },
     "execution_count": 7,
     "metadata": {},
     "output_type": "execute_result"
    }
   ],
   "source": [
    "retention_1"
   ]
  },
  {
   "cell_type": "markdown",
   "metadata": {},
   "source": [
    "Using these two numbers can generate a point estimate for the retention rate by group."
   ]
  },
  {
   "cell_type": "code",
   "execution_count": 8,
   "metadata": {},
   "outputs": [],
   "source": [
    "retention_1['point_estimate'] = retention_1['sum'] / retention_1['count']"
   ]
  },
  {
   "cell_type": "code",
   "execution_count": 9,
   "metadata": {
    "scrolled": true
   },
   "outputs": [
    {
     "data": {
      "text/html": [
       "<div>\n",
       "<style scoped>\n",
       "    .dataframe tbody tr th:only-of-type {\n",
       "        vertical-align: middle;\n",
       "    }\n",
       "\n",
       "    .dataframe tbody tr th {\n",
       "        vertical-align: top;\n",
       "    }\n",
       "\n",
       "    .dataframe thead th {\n",
       "        text-align: right;\n",
       "    }\n",
       "</style>\n",
       "<table border=\"1\" class=\"dataframe\">\n",
       "  <thead>\n",
       "    <tr style=\"text-align: right;\">\n",
       "      <th></th>\n",
       "      <th>sum</th>\n",
       "      <th>count</th>\n",
       "      <th>point_estimate</th>\n",
       "    </tr>\n",
       "    <tr>\n",
       "      <th>version</th>\n",
       "      <th></th>\n",
       "      <th></th>\n",
       "      <th></th>\n",
       "    </tr>\n",
       "  </thead>\n",
       "  <tbody>\n",
       "    <tr>\n",
       "      <th>gate_30</th>\n",
       "      <td>20034</td>\n",
       "      <td>44700</td>\n",
       "      <td>0.448188</td>\n",
       "    </tr>\n",
       "    <tr>\n",
       "      <th>gate_40</th>\n",
       "      <td>20119</td>\n",
       "      <td>45489</td>\n",
       "      <td>0.442283</td>\n",
       "    </tr>\n",
       "  </tbody>\n",
       "</table>\n",
       "</div>"
      ],
      "text/plain": [
       "           sum  count  point_estimate\n",
       "version                              \n",
       "gate_30  20034  44700        0.448188\n",
       "gate_40  20119  45489        0.442283"
      ]
     },
     "execution_count": 9,
     "metadata": {},
     "output_type": "execute_result"
    }
   ],
   "source": [
    "retention_1"
   ]
  },
  {
   "cell_type": "markdown",
   "metadata": {},
   "source": [
    "Though not strictly needed for running the hypothesis test, you can find the margin of error and confidence interval by following, for example, http://davidmlane.com/hyperstat/B9168.html.\n",
    "\n",
    "The calculation of margin of error is \n",
    "\n",
    "$$\\text{margin of error} = z\\cdot\\sqrt{\\frac{p(1-p)}{n}}$$\n",
    "\n",
    "where $p$ is the point estimate, $n$ is the number of observations, and $z$ depends on the desired level of confidence.\n",
    "\n",
    "The `norm.ppf` function can be used to find the margin of error, based on the confidence level."
   ]
  },
  {
   "cell_type": "code",
   "execution_count": 10,
   "metadata": {},
   "outputs": [
    {
     "data": {
      "text/html": [
       "<div>\n",
       "<style scoped>\n",
       "    .dataframe tbody tr th:only-of-type {\n",
       "        vertical-align: middle;\n",
       "    }\n",
       "\n",
       "    .dataframe tbody tr th {\n",
       "        vertical-align: top;\n",
       "    }\n",
       "\n",
       "    .dataframe thead th {\n",
       "        text-align: right;\n",
       "    }\n",
       "</style>\n",
       "<table border=\"1\" class=\"dataframe\">\n",
       "  <thead>\n",
       "    <tr style=\"text-align: right;\">\n",
       "      <th></th>\n",
       "      <th>sum</th>\n",
       "      <th>count</th>\n",
       "      <th>point_estimate</th>\n",
       "      <th>margin_of_error</th>\n",
       "    </tr>\n",
       "    <tr>\n",
       "      <th>version</th>\n",
       "      <th></th>\n",
       "      <th></th>\n",
       "      <th></th>\n",
       "      <th></th>\n",
       "    </tr>\n",
       "  </thead>\n",
       "  <tbody>\n",
       "    <tr>\n",
       "      <th>gate_30</th>\n",
       "      <td>20034</td>\n",
       "      <td>44700</td>\n",
       "      <td>0.448188</td>\n",
       "      <td>0.004610</td>\n",
       "    </tr>\n",
       "    <tr>\n",
       "      <th>gate_40</th>\n",
       "      <td>20119</td>\n",
       "      <td>45489</td>\n",
       "      <td>0.442283</td>\n",
       "      <td>0.004564</td>\n",
       "    </tr>\n",
       "  </tbody>\n",
       "</table>\n",
       "</div>"
      ],
      "text/plain": [
       "           sum  count  point_estimate  margin_of_error\n",
       "version                                               \n",
       "gate_30  20034  44700        0.448188         0.004610\n",
       "gate_40  20119  45489        0.442283         0.004564"
      ]
     },
     "execution_count": 10,
     "metadata": {},
     "output_type": "execute_result"
    }
   ],
   "source": [
    "# using a 95% confidence interval\n",
    "conf_level = 0.95\n",
    "# Find the z-value\n",
    "z = norm.ppf(1 - (1 - conf_level) / 2)\n",
    "\n",
    "retention_1['margin_of_error'] = z * np.sqrt((retention_1['point_estimate'] * (1 - retention_1['point_estimate'])) / retention_1['count'])\n",
    "\n",
    "retention_1"
   ]
  },
  {
   "cell_type": "markdown",
   "metadata": {},
   "source": [
    "The margin of error can be used to find upper and lower bounds for a confidence interval."
   ]
  },
  {
   "cell_type": "code",
   "execution_count": 11,
   "metadata": {},
   "outputs": [],
   "source": [
    "retention_1['lower_bound'] = retention_1['point_estimate'] - retention_1['margin_of_error']\n",
    "retention_1['upper_bound'] = retention_1['point_estimate'] + retention_1['margin_of_error']"
   ]
  },
  {
   "cell_type": "code",
   "execution_count": 12,
   "metadata": {},
   "outputs": [],
   "source": [
    "def estimate_plot(df):\n",
    "    df.reset_index().plot.scatter(x = 'version', y = 'point_estimate', s = 75, edgecolor = 'black', zorder = 100)\n",
    "    for version in df.index:\n",
    "        plt.plot([version, version], [df.loc[version]['lower_bound'], df.loc[version]['upper_bound']], color = 'black')\n",
    "    plt.xlim(-0.75, 1.75)\n",
    "    plt.title('Point Estimates with Margin of Error')\n",
    "    plt.ylabel('rate')"
   ]
  },
  {
   "cell_type": "code",
   "execution_count": 13,
   "metadata": {
    "scrolled": true
   },
   "outputs": [
    {
     "data": {
      "image/png": "[encoded data removed]",
      "text/plain": [
       "<Figure size 432x288 with 1 Axes>"
      ]
     },
     "metadata": {
      "needs_background": "light"
     },
     "output_type": "display_data"
    }
   ],
   "source": [
    "estimate_plot(retention_1)"
   ]
  },
  {
   "cell_type": "markdown",
   "metadata": {},
   "source": [
    "Based on the plot, there is a difference in the point estimate, but there is quite a bit of overlap in the confidence intervals.\n",
    "\n",
    "Finally, you can use the `proportions_ztest` function to find the $p$-value for this test. (**Question:** What is a $p$-value?) You need to specify the `count` argument, which in this case is the number retained. You also need to specify the `nobs` argument, which is the number of observations per group."
   ]
  },
  {
   "cell_type": "code",
   "execution_count": 14,
   "metadata": {},
   "outputs": [],
   "source": [
    "test_statistic, p_value = proportions_ztest( count = retention_1['sum'], \n",
    "                                            nobs = retention_1['count'])"
   ]
  },
  {
   "cell_type": "code",
   "execution_count": 15,
   "metadata": {},
   "outputs": [
    {
     "data": {
      "text/plain": [
       "0.07440965529691913"
      ]
     },
     "execution_count": 15,
     "metadata": {},
     "output_type": "execute_result"
    }
   ],
   "source": [
    "p_value"
   ]
  },
  {
   "cell_type": "markdown",
   "metadata": {},
   "source": [
    "**Conclusion:** Since the $p$-value is greater than the significance level of 0.05, we do not reject the null hypothesis. There is not enough evidence to conclude that there is a difference in retention rates between the two groups."
   ]
  },
  {
   "cell_type": "markdown",
   "metadata": {},
   "source": [
    "## Your turn: \n",
    "\n",
    "Determine if the version of Cookie Cats that does not present a gate until level 40 has a statistically significantly different 7-day retention rate than the version that presents a gate at level 30.\n",
    "**Using a markdown cell**    \n",
    "1. State the null and alternative hypotheses\n",
    "2. What is the single variant (difference) between your A and B groups?\n",
    "3. How is random assignment to each group accomplished?\n",
    "3. What is the target outcome to measure (your point statistic)?\n",
    "4. Historically, there has been around a 19% 7-day retention rate. If you want to detect a 1% difference, what sample size is needed for 80% power?\n",
    "5. Do you have a sufficient sample size?    \n",
    "\n",
    "**Using code cells**\n",
    "1. Calculate the following for each group:  \n",
    "    a. number of observations  \n",
    "    b. number retained for 7 days  \n",
    "    c. proportion retained for 7 days  \n",
    "2. Determine the margin of error at the 95% confidence level.\n",
    "3. Determine the p-value.\n",
    "\n",
    "**Be prepared to share your opinion on whether you will accept or reject the null hypothesis.**"
   ]
  },
  {
   "cell_type": "code",
   "execution_count": null,
   "metadata": {},
   "outputs": [],
   "source": []
  }
 ],
 "metadata": {
  "kernelspec": {
   "display_name": "Python 3",
   "language": "python",
   "name": "python3"
  },
  "language_info": {
   "codemirror_mode": {
    "name": "ipython",
    "version": 3
   },
   "file_extension": ".py",
   "mimetype": "text/x-python",
   "name": "python",
   "nbconvert_exporter": "python",
   "pygments_lexer": "ipython3",
   "version": "3.8.5"
  }
 },
 "nbformat": 4,
 "nbformat_minor": 4
}
