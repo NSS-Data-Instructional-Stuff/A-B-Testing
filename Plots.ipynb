{
 "cells": [
  {
   "cell_type": "code",
   "execution_count": 1,
   "metadata": {},
   "outputs": [],
   "source": [
    "import matplotlib.pyplot as plt\n",
    "from scipy.stats import binom, norm, fisher_exact\n",
    "from statsmodels.stats.proportion import proportions_ztest\n",
    "import numpy as np\n",
    "\n",
    "%matplotlib inline"
   ]
  },
  {
   "cell_type": "code",
   "execution_count": 2,
   "metadata": {},
   "outputs": [],
   "source": [
    "theta_a = 0.03\n",
    "theta_b = 0.10"
   ]
  },
  {
   "cell_type": "code",
   "execution_count": 3,
   "metadata": {},
   "outputs": [],
   "source": [
    "num_obs = 1000\n",
    "\n",
    "num_obs_a = num_obs\n",
    "num_obs_b = num_obs\n",
    "\n",
    "success_a = binom.rvs(n = num_obs_a, p = theta_a)\n",
    "\n",
    "est_a = success_a / num_obs_a \n",
    "\n",
    "success_b = binom.rvs(n = num_obs_b, p = theta_b)\n",
    "\n",
    "est_b = success_b / num_obs_b "
   ]
  },
  {
   "cell_type": "code",
   "execution_count": 4,
   "metadata": {},
   "outputs": [],
   "source": [
    "# find margin of error\n",
    "conf_level = 0.95\n",
    "\n",
    "\n",
    "z = norm.ppf(1 - (1 - conf_level) / 2)\n",
    "\n",
    "\n",
    "margin_of_error_a = 100 * z * np.sqrt(est_a * (1 - est_a) / num_obs_a)\n",
    "margin_of_error_b = 100 * z * np.sqrt(est_b * (1 - est_b) / num_obs_b)"
   ]
  },
  {
   "cell_type": "code",
   "execution_count": 5,
   "metadata": {},
   "outputs": [],
   "source": [
    "est_a = 100 * est_a\n",
    "est_b = 100 * est_b"
   ]
  },
  {
   "cell_type": "code",
   "execution_count": 6,
   "metadata": {},
   "outputs": [
    {
     "data": {
      "image/png": "[encoded data removed]",
      "text/plain": [
       "<Figure size 432x288 with 1 Axes>"
      ]
     },
     "metadata": {
      "needs_background": "light"
     },
     "output_type": "display_data"
    }
   ],
   "source": [
    "plt.bar([0, 1], [est_a, est_b], yerr = [margin_of_error_a, margin_of_error_b])\n",
    "plt.xticks(labels = ['A', 'B'], ticks = [0,1], fontweight = 'bold')\n",
    "plt.title('Point Estimates and Margin of Error')\n",
    "\n",
    "plt.tight_layout()\n",
    "plt.savefig('images/Bar_Chart.png', dpi = 150);"
   ]
  },
  {
   "cell_type": "code",
   "execution_count": 7,
   "metadata": {},
   "outputs": [
    {
     "data": {
      "image/png": "[encoded data removed]",
      "text/plain": [
       "<Figure size 432x288 with 1 Axes>"
      ]
     },
     "metadata": {
      "needs_background": "light"
     },
     "output_type": "display_data"
    }
   ],
   "source": [
    "width = 0.05\n",
    "\n",
    "ticks = [0, 0.125]\n",
    "\n",
    "ests = [est_a, est_b]\n",
    "moes = [margin_of_error_a, margin_of_error_b]\n",
    "\n",
    "plt.scatter([0,0.125], ests, color = 'blue', edgecolor = 'black', s = 75, zorder = 500, label = 'point estimates')\n",
    "\n",
    "for i, est, moe in zip([0,0.125], ests, moes):\n",
    "    plt.plot([i, i], [est - moe, est + moe], color = 'black')\n",
    "    plt.plot([i - width, i + width], [est + moe, est + moe], color = 'black')\n",
    "    plt.plot([i - width, i + width], [est - moe, est - moe], color = 'black')\n",
    "    \n",
    "ymin, ymax = plt.ylim()\n",
    "plt.ylim(0, ymax + 3)\n",
    "plt.xticks(labels = ['A', 'B'], ticks = [0, 0.125], fontweight = 'bold')\n",
    "plt.title('Point Estimates and Margin of Error')\n",
    "\n",
    "plt.tight_layout()\n",
    "plt.savefig('images/Dots.png', dpi = 150);\n"
   ]
  },
  {
   "cell_type": "code",
   "execution_count": 8,
   "metadata": {},
   "outputs": [
    {
     "data": {
      "text/plain": [
       "1.1850247619745946"
      ]
     },
     "execution_count": 8,
     "metadata": {},
     "output_type": "execute_result"
    }
   ],
   "source": [
    "100 * z * np.sqrt(.038 * (1 - .038) / 1000)"
   ]
  },
  {
   "cell_type": "code",
   "execution_count": 9,
   "metadata": {},
   "outputs": [],
   "source": [
    "clicks = 36\n",
    "impressions = 1000\n",
    "\n",
    "pt_est = clicks / impressions\n",
    "\n",
    "moe = z * np.sqrt(pt_est * (1 - pt_est) / impressions)"
   ]
  },
  {
   "cell_type": "code",
   "execution_count": 10,
   "metadata": {},
   "outputs": [],
   "source": [
    "def make_plot(pt_est, moe, show_ci = False):\n",
    "    \n",
    "    color = 'blue'\n",
    "    linecolor = 'blue'\n",
    "    \n",
    "    plt.figure(figsize = (10, 4))\n",
    "    \n",
    "    plt.scatter([pt_est], [0], alpha = 0)\n",
    "    ymin, ymax = plt.ylim()\n",
    "\n",
    "\n",
    "    plt.scatter([pt_est], [0.01], color = color, s = 100, edgecolor = 'black', linewidth = 1.5, zorder = 100)\n",
    "\n",
    "\n",
    "    plt.hlines(y = 0, xmin = 0.0175, xmax = 0.0525)\n",
    "\n",
    "    plt.xlim(0.0175, 0.0525)\n",
    "\n",
    "    xtick = np.arange(start = 0.02, stop = 0.051, step = 0.005)\n",
    "    for x in xtick:\n",
    "        plt.annotate(s = str(round(x, 3)), xy = (x, -0.015), ha = 'center', fontsize = 16)\n",
    "        plt.plot([x, x], [0, -0.005], color = 'black')\n",
    "\n",
    "        \n",
    "    if show_ci:\n",
    "        plt.plot([pt_est - moe, pt_est + moe], [0.01, 0.01], color = linecolor)\n",
    "        plt.plot([pt_est - moe, pt_est - moe], [0.005, 0.015], color = linecolor)\n",
    "        plt.plot([pt_est + moe, pt_est + moe], [0.005, 0.015], color = linecolor)\n",
    "\n",
    "    \n",
    "    plt.ylim(ymin, ymax)\n",
    "\n",
    "    plt.axis('off');"
   ]
  },
  {
   "cell_type": "code",
   "execution_count": 11,
   "metadata": {},
   "outputs": [
    {
     "name": "stderr",
     "output_type": "stream",
     "text": [
      "<ipython-input-10-a89d68a99e69>:21: MatplotlibDeprecationWarning: The 's' parameter of annotate() has been renamed 'text' since Matplotlib 3.3; support for the old name will be dropped two minor releases later.\n",
      "  plt.annotate(s = str(round(x, 3)), xy = (x, -0.015), ha = 'center', fontsize = 16)\n"
     ]
    },
    {
     "data": {
      "image/png": "[encoded data removed]",
      "text/plain": [
       "<Figure size 720x288 with 1 Axes>"
      ]
     },
     "metadata": {
      "needs_background": "light"
     },
     "output_type": "display_data"
    }
   ],
   "source": [
    "make_plot(pt_est = pt_est, moe = moe, show_ci = False)\n",
    "\n",
    "plt.tight_layout()\n",
    "plt.savefig('images/point_estimate_01.png', dpi = 150)"
   ]
  },
  {
   "cell_type": "code",
   "execution_count": 12,
   "metadata": {},
   "outputs": [
    {
     "name": "stderr",
     "output_type": "stream",
     "text": [
      "<ipython-input-10-a89d68a99e69>:21: MatplotlibDeprecationWarning: The 's' parameter of annotate() has been renamed 'text' since Matplotlib 3.3; support for the old name will be dropped two minor releases later.\n",
      "  plt.annotate(s = str(round(x, 3)), xy = (x, -0.015), ha = 'center', fontsize = 16)\n"
     ]
    },
    {
     "data": {
      "image/png": "[encoded data removed]",
      "text/plain": [
       "<Figure size 720x288 with 1 Axes>"
      ]
     },
     "metadata": {
      "needs_background": "light"
     },
     "output_type": "display_data"
    }
   ],
   "source": [
    "make_plot(pt_est = pt_est, moe = moe, show_ci = True)\n",
    "\n",
    "plt.tight_layout()\n",
    "plt.savefig('images/moe_01.png', dpi = 150)"
   ]
  },
  {
   "cell_type": "code",
   "execution_count": 13,
   "metadata": {},
   "outputs": [],
   "source": [
    "clicks = 5000*0.036\n",
    "impressions = 5000\n",
    "\n",
    "pt_est = clicks / impressions\n",
    "\n",
    "moe = z * np.sqrt(pt_est * (1 - pt_est) / impressions)"
   ]
  },
  {
   "cell_type": "code",
   "execution_count": 14,
   "metadata": {},
   "outputs": [
    {
     "name": "stderr",
     "output_type": "stream",
     "text": [
      "<ipython-input-10-a89d68a99e69>:21: MatplotlibDeprecationWarning: The 's' parameter of annotate() has been renamed 'text' since Matplotlib 3.3; support for the old name will be dropped two minor releases later.\n",
      "  plt.annotate(s = str(round(x, 3)), xy = (x, -0.015), ha = 'center', fontsize = 16)\n"
     ]
    },
    {
     "data": {
      "image/png": "[encoded data removed]",
      "text/plain": [
       "<Figure size 720x288 with 1 Axes>"
      ]
     },
     "metadata": {
      "needs_background": "light"
     },
     "output_type": "display_data"
    }
   ],
   "source": [
    "make_plot(pt_est = pt_est, moe = moe, show_ci = True)\n",
    "\n",
    "plt.tight_layout()\n",
    "plt.savefig('images/moe_02.png', dpi = 150)"
   ]
  },
  {
   "cell_type": "code",
   "execution_count": 15,
   "metadata": {},
   "outputs": [],
   "source": [
    "def make_plot_two(pt_ests, moes, show_ci = False):\n",
    "    \n",
    "    colors = ['blue', 'red']\n",
    "    linecolors = ['blue', 'red']\n",
    "    \n",
    "    plt.figure(figsize = (10, 4))\n",
    "    \n",
    "    plt.scatter([pt_ests[0]], [0], alpha = 0)\n",
    "    ymin, ymax = plt.ylim()\n",
    "\n",
    "    for pt_est, color, y in zip(pt_ests, colors, [0.01, 0.02]):\n",
    "        plt.scatter([pt_est], [y], color = color, s = 100, edgecolor = 'black', linewidth = 1.5, zorder = 100)\n",
    "\n",
    "\n",
    "    plt.hlines(y = 0, xmin = 0.0175, xmax = 0.0525)\n",
    "\n",
    "    plt.xlim(0.0175, 0.0525)\n",
    "\n",
    "    xtick = np.arange(start = 0.02, stop = 0.051, step = 0.005)\n",
    "    for x in xtick:\n",
    "        plt.annotate(s = str(round(x, 3)), xy = (x, -0.015), ha = 'center', fontsize = 16)\n",
    "        plt.plot([x, x], [0, -0.005], color = 'black')\n",
    "\n",
    "        \n",
    "    if show_ci:\n",
    "        for pt_est, moe, linecolor, y in zip(pt_ests, moes, linecolors, [0.01, 0.02]):\n",
    "            plt.plot([pt_est - moe, pt_est + moe], [y, y], color = linecolor)\n",
    "            plt.plot([pt_est - moe, pt_est - moe], [y - 0.005, y + 0.005], color = linecolor)\n",
    "            plt.plot([pt_est + moe, pt_est + moe], [y - 0.005, y + 0.005], color = linecolor)\n",
    "\n",
    "    \n",
    "    plt.ylim(ymin, ymax)\n",
    "\n",
    "    plt.axis('off');"
   ]
  },
  {
   "cell_type": "code",
   "execution_count": 16,
   "metadata": {},
   "outputs": [],
   "source": [
    "clicks_a = 28\n",
    "clicks_b = 39\n",
    "impressions = 1000\n",
    "\n",
    "pt_est_a = clicks_a / impressions\n",
    "pt_est_b = clicks_b / impressions\n",
    "\n",
    "moe_a = z * np.sqrt(pt_est_a * (1 - pt_est_a) / impressions)\n",
    "moe_b = z * np.sqrt(pt_est_b * (1 - pt_est_b) / impressions)"
   ]
  },
  {
   "cell_type": "code",
   "execution_count": 17,
   "metadata": {},
   "outputs": [
    {
     "name": "stderr",
     "output_type": "stream",
     "text": [
      "<ipython-input-15-f0dd902d7cec>:21: MatplotlibDeprecationWarning: The 's' parameter of annotate() has been renamed 'text' since Matplotlib 3.3; support for the old name will be dropped two minor releases later.\n",
      "  plt.annotate(s = str(round(x, 3)), xy = (x, -0.015), ha = 'center', fontsize = 16)\n"
     ]
    },
    {
     "data": {
      "image/png": "[encoded data removed]",
      "text/plain": [
       "<Figure size 720x288 with 1 Axes>"
      ]
     },
     "metadata": {
      "needs_background": "light"
     },
     "output_type": "display_data"
    }
   ],
   "source": [
    "make_plot_two(pt_ests = [pt_est_a, pt_est_b], moes = [moe_a, moe_b], show_ci = False)\n",
    "\n",
    "plt.tight_layout()\n",
    "plt.savefig('images/pt_est_two.png', dpi = 150);"
   ]
  },
  {
   "cell_type": "code",
   "execution_count": 18,
   "metadata": {},
   "outputs": [
    {
     "name": "stderr",
     "output_type": "stream",
     "text": [
      "<ipython-input-15-f0dd902d7cec>:21: MatplotlibDeprecationWarning: The 's' parameter of annotate() has been renamed 'text' since Matplotlib 3.3; support for the old name will be dropped two minor releases later.\n",
      "  plt.annotate(s = str(round(x, 3)), xy = (x, -0.015), ha = 'center', fontsize = 16)\n"
     ]
    },
    {
     "data": {
      "image/png": "[encoded data removed]",
      "text/plain": [
       "<Figure size 720x288 with 1 Axes>"
      ]
     },
     "metadata": {
      "needs_background": "light"
     },
     "output_type": "display_data"
    }
   ],
   "source": [
    "make_plot_two(pt_ests = [pt_est_a, pt_est_b], moes = [moe_a, moe_b], show_ci = True)\n",
    "\n",
    "plt.tight_layout()\n",
    "plt.savefig('images/moe_two.png', dpi = 150);"
   ]
  },
  {
   "cell_type": "code",
   "execution_count": 19,
   "metadata": {},
   "outputs": [
    {
     "data": {
      "text/plain": [
       "(0.7098237838978579, 0.21370199834399467)"
      ]
     },
     "execution_count": 19,
     "metadata": {},
     "output_type": "execute_result"
    }
   ],
   "source": [
    "fisher_exact([[clicks_a, impressions - clicks_a], [clicks_b, impressions - clicks_b]])"
   ]
  },
  {
   "cell_type": "code",
   "execution_count": 20,
   "metadata": {},
   "outputs": [
    {
     "data": {
      "text/plain": [
       "(-1.3669554304132965, 0.1716392759872153)"
      ]
     },
     "execution_count": 20,
     "metadata": {},
     "output_type": "execute_result"
    }
   ],
   "source": [
    "proportions_ztest(count = [clicks_a, clicks_b], nobs = [impressions, impressions])"
   ]
  },
  {
   "cell_type": "code",
   "execution_count": 21,
   "metadata": {},
   "outputs": [],
   "source": [
    "clicks_a = 140\n",
    "clicks_b = 195\n",
    "impressions = 5000\n",
    "\n",
    "pt_est_a = clicks_a / impressions\n",
    "pt_est_b = clicks_b / impressions\n",
    "\n",
    "moe_a = z * np.sqrt(pt_est_a * (1 - pt_est_a) / impressions)\n",
    "moe_b = z * np.sqrt(pt_est_b * (1 - pt_est_b) / impressions)"
   ]
  },
  {
   "cell_type": "code",
   "execution_count": 22,
   "metadata": {},
   "outputs": [
    {
     "name": "stderr",
     "output_type": "stream",
     "text": [
      "<ipython-input-15-f0dd902d7cec>:21: MatplotlibDeprecationWarning: The 's' parameter of annotate() has been renamed 'text' since Matplotlib 3.3; support for the old name will be dropped two minor releases later.\n",
      "  plt.annotate(s = str(round(x, 3)), xy = (x, -0.015), ha = 'center', fontsize = 16)\n"
     ]
    },
    {
     "data": {
      "image/png": "[encoded data removed]",
      "text/plain": [
       "<Figure size 720x288 with 1 Axes>"
      ]
     },
     "metadata": {
      "needs_background": "light"
     },
     "output_type": "display_data"
    }
   ],
   "source": [
    "make_plot_two(pt_ests = [pt_est_a, pt_est_b], moes = [moe_a, moe_b], show_ci = True)\n",
    "\n",
    "plt.tight_layout()\n",
    "plt.savefig('images/moe_two_2.png', dpi = 150);"
   ]
  },
  {
   "cell_type": "code",
   "execution_count": 23,
   "metadata": {},
   "outputs": [
    {
     "data": {
      "text/plain": [
       "(-3.056605264616614, 0.002238588626774004)"
      ]
     },
     "execution_count": 23,
     "metadata": {},
     "output_type": "execute_result"
    }
   ],
   "source": [
    "proportions_ztest(count = [clicks_a, clicks_b], nobs = [impressions, impressions])"
   ]
  },
  {
   "cell_type": "code",
   "execution_count": 24,
   "metadata": {},
   "outputs": [
    {
     "data": {
      "text/plain": [
       "(0.7098237838978579, 0.0026412992208492297)"
      ]
     },
     "execution_count": 24,
     "metadata": {},
     "output_type": "execute_result"
    }
   ],
   "source": [
    "fisher_exact([[clicks_a, impressions - clicks_a], [clicks_b, impressions - clicks_b]])"
   ]
  },
  {
   "cell_type": "markdown",
   "metadata": {},
   "source": [
    "# Power Calculations"
   ]
  },
  {
   "cell_type": "markdown",
   "metadata": {},
   "source": [
    "Fact: If proportions are $p_1$ and $p_2$, then the difference is approximately normally distributed with a mean of $p_1 - p_2$ and standard deviation $\\sqrt{ \\frac{p_1(1 - p_1)}{n_1} + \\frac{p_2(1 - p_2)}{n_2}}$"
   ]
  },
  {
   "cell_type": "code",
   "execution_count": 25,
   "metadata": {},
   "outputs": [],
   "source": [
    "p1 = 0.025\n",
    "p2 = 0.03"
   ]
  },
  {
   "cell_type": "code",
   "execution_count": 26,
   "metadata": {},
   "outputs": [],
   "source": [
    "#impressions = 15,744\n",
    "impressions = 1000\n",
    "#impressions = 16000"
   ]
  },
  {
   "cell_type": "code",
   "execution_count": 27,
   "metadata": {},
   "outputs": [],
   "source": [
    "mu_null = 0\n",
    "sigma_null = np.sqrt(p1*(1-p1) / impressions + p1*(1-p1) / impressions)\n",
    "\n",
    "mu_alt = p2 - p1\n",
    "sigma_alt = np.sqrt(p1*(1-p1) / impressions + p2*(1-p2) / impressions)"
   ]
  },
  {
   "cell_type": "code",
   "execution_count": 28,
   "metadata": {},
   "outputs": [],
   "source": [
    "if impressions == 1000:\n",
    "    xmin = norm.ppf(loc = mu_null, scale = sigma_null, q = 0.001)\n",
    "    xmax = norm.ppf(loc = mu_alt, scale = sigma_alt, q = 0.999)"
   ]
  },
  {
   "cell_type": "code",
   "execution_count": 29,
   "metadata": {},
   "outputs": [],
   "source": [
    "x = np.linspace(xmin, xmax,\n",
    "               num = 250)\n",
    "y_null = norm.pdf(x, loc = mu_null, scale = sigma_null)\n",
    "y_alt = norm.pdf(x, loc = mu_alt, scale = sigma_alt)"
   ]
  },
  {
   "cell_type": "code",
   "execution_count": 30,
   "metadata": {},
   "outputs": [],
   "source": [
    "min_reject = norm.ppf(loc = mu_null, scale = sigma_null, q = 0.975)"
   ]
  },
  {
   "cell_type": "code",
   "execution_count": 31,
   "metadata": {},
   "outputs": [
    {
     "data": {
      "image/png": "[encoded data removed]",
      "text/plain": [
       "<Figure size 432x288 with 1 Axes>"
      ]
     },
     "metadata": {
      "needs_background": "light"
     },
     "output_type": "display_data"
    }
   ],
   "source": [
    "fillcolor = 'cornflowerblue'\n",
    "\n",
    "fig, ax = plt.subplots()\n",
    "\n",
    "plt.plot(x, y_null, color = 'blue', label = 'null')\n",
    "#plt.plot(x, y_alt, color = 'red', label = 'true')\n",
    "\n",
    "plt.hlines(y = 0, xmin = xmin, xmax = xmax)\n",
    "\n",
    "lower_cutoff = norm.ppf(q = 0.025, loc = mu_null, scale = sigma_null)\n",
    "upper_cutoff = -lower_cutoff\n",
    "\n",
    "for co in [lower_cutoff, upper_cutoff]:\n",
    "    plt.vlines(x = co, ymin = 0, ymax = norm.pdf(co, loc = mu_null, scale = sigma_null))\n",
    "    \n",
    "plt.fill_between(x[x<=lower_cutoff], y_null[x<=lower_cutoff], color = fillcolor)\n",
    "plt.fill_between(x[x>=upper_cutoff], y_null[x>=upper_cutoff], color = fillcolor)\n",
    "\n",
    "plt.yticks([])\n",
    "\n",
    "for side in ['right', 'left', 'top']:\n",
    "    ax.spines[side].set_visible(False)\n",
    "    \n",
    "plt.legend()\n",
    "\n",
    "plt.tight_layout()\n",
    "plt.savefig('images/null_dist_2.png', dpi = 150);"
   ]
  },
  {
   "cell_type": "code",
   "execution_count": 32,
   "metadata": {
    "scrolled": true
   },
   "outputs": [
    {
     "data": {
      "image/png": "[encoded data removed]",
      "text/plain": [
       "<Figure size 432x288 with 1 Axes>"
      ]
     },
     "metadata": {
      "needs_background": "light"
     },
     "output_type": "display_data"
    }
   ],
   "source": [
    "fillcolor = 'cornflowerblue'\n",
    "\n",
    "fig, ax = plt.subplots()\n",
    "\n",
    "plt.plot(x, y_null, color = 'blue', label = 'null')\n",
    "plt.plot(x, y_alt, color = 'red', label = 'true')\n",
    "\n",
    "plt.hlines(y = 0, xmin = xmin, xmax = xmax)\n",
    "\n",
    "lower_cutoff = norm.ppf(q = 0.025, loc = mu_null, scale = sigma_null)\n",
    "upper_cutoff = -lower_cutoff\n",
    "\n",
    "for co in [lower_cutoff, upper_cutoff]:\n",
    "    plt.vlines(x = co, ymin = 0, ymax = norm.pdf(co, loc = mu_null, scale = sigma_null))\n",
    "    \n",
    "plt.fill_between(x[x<=lower_cutoff], y_null[x<=lower_cutoff], color = fillcolor)\n",
    "plt.fill_between(x[x>=upper_cutoff], y_null[x>=upper_cutoff], color = fillcolor)\n",
    "\n",
    "plt.yticks([])\n",
    "\n",
    "plt.vlines(x = 0.005, ymin = 0, ymax = norm.pdf(0.005, loc = mu_alt, scale = sigma_alt), \n",
    "           linestyle = '--', color = 'grey', linewidth = 1)\n",
    "\n",
    "for side in ['right', 'left', 'top']:\n",
    "    ax.spines[side].set_visible(False)\n",
    "    \n",
    "plt.legend()\n",
    "\n",
    "plt.tight_layout()\n",
    "plt.savefig('images/both_dist_2.png', dpi = 150);"
   ]
  },
  {
   "cell_type": "code",
   "execution_count": 33,
   "metadata": {},
   "outputs": [
    {
     "data": {
      "image/png": "[encoded data removed]",
      "text/plain": [
       "<Figure size 432x288 with 1 Axes>"
      ]
     },
     "metadata": {
      "needs_background": "light"
     },
     "output_type": "display_data"
    }
   ],
   "source": [
    "power = round(1 - norm.cdf(min_reject, loc = mu_alt, scale = sigma_alt) - norm.cdf(-min_reject, loc = mu_alt, scale = sigma_alt), 2)\n",
    "\n",
    "fillcolor = 'green'\n",
    "\n",
    "fig, ax = plt.subplots()\n",
    "\n",
    "plt.plot(x, y_null, color = 'blue', label = 'null')\n",
    "plt.plot(x, y_alt, color = 'red', label = 'true')\n",
    "\n",
    "plt.hlines(y = 0, xmin = xmin, xmax = xmax)\n",
    "\n",
    "lower_cutoff = norm.ppf(q = 0.025, loc = mu_null, scale = sigma_null)\n",
    "upper_cutoff = -lower_cutoff\n",
    "\n",
    "for co in [lower_cutoff, upper_cutoff]:\n",
    "    plt.vlines(x = co, ymin = 0, ymax = norm.pdf(co, loc = mu_alt, scale = sigma_alt))\n",
    "    \n",
    "#plt.fill_between(x[x<=lower_cutoff], y_null[x<=lower_cutoff], color = fillcolor)\n",
    "#plt.fill_between(x[x>=upper_cutoff], y_null[x>=upper_cutoff], color = fillcolor)\n",
    "\n",
    "plt.fill_between(x[x <= -min_reject], y_alt[x <= -min_reject], alpha = 0.8, color = fillcolor)\n",
    "plt.fill_between(x[x >= min_reject], y_alt[x >= min_reject], alpha = 0.8, color = fillcolor)\n",
    "\n",
    "ymin, ymax = plt.ylim()\n",
    "\n",
    "plt.vlines(x = 0.005, ymin = 0, ymax = norm.pdf(0.005, loc = mu_alt, scale = sigma_alt), \n",
    "           linestyle = '--', color = 'grey', linewidth = 1)\n",
    "\n",
    "\n",
    "# plt.annotate(s = str(power), \n",
    "#              xy = (min_reject + min_reject / 25, 0),\n",
    "#             ha = 'left', va = 'bottom', fontsize = 18, fontweight = 'bold')\n",
    "\n",
    "\n",
    "plt.yticks([])\n",
    "\n",
    "for side in ['right', 'left', 'top']:\n",
    "    ax.spines[side].set_visible(False)\n",
    "    \n",
    "plt.legend()\n",
    "\n",
    "plt.tight_layout()\n",
    "plt.savefig('images/power_2.png', dpi = 150);"
   ]
  },
  {
   "cell_type": "code",
   "execution_count": 34,
   "metadata": {},
   "outputs": [
    {
     "data": {
      "text/plain": [
       "0.11"
      ]
     },
     "execution_count": 34,
     "metadata": {},
     "output_type": "execute_result"
    }
   ],
   "source": [
    "power"
   ]
  },
  {
   "cell_type": "code",
   "execution_count": 35,
   "metadata": {},
   "outputs": [],
   "source": [
    "p1 = 0.025\n",
    "#p2 = 0.03\n",
    "p2 = 0.035"
   ]
  },
  {
   "cell_type": "code",
   "execution_count": 36,
   "metadata": {},
   "outputs": [],
   "source": [
    "def find_power(impressions):\n",
    "    mu_null = 0\n",
    "    sigma_null = np.sqrt(p1*(1-p1) / impressions + p1*(1-p1) / impressions)\n",
    "\n",
    "    mu_alt = p2 - p1\n",
    "    sigma_alt = np.sqrt(p1*(1-p1) / impressions + p2*(1-p2) / impressions)\n",
    "    \n",
    "    min_reject = norm.ppf(loc = mu_null, scale = sigma_null, q = 0.975)\n",
    "    \n",
    "    power = 1 - norm.cdf(min_reject, loc = mu_alt, scale = sigma_alt) - norm.cdf(-min_reject, loc = mu_alt, scale = sigma_alt)\n",
    "    \n",
    "    return power\n",
    "    "
   ]
  },
  {
   "cell_type": "code",
   "execution_count": 37,
   "metadata": {},
   "outputs": [],
   "source": [
    "find_power_vect = np.vectorize(find_power)"
   ]
  },
  {
   "cell_type": "code",
   "execution_count": 38,
   "metadata": {},
   "outputs": [],
   "source": [
    "imp_range = np.linspace(start = 10, stop = 25000, num = 10000, dtype=int)"
   ]
  },
  {
   "cell_type": "code",
   "execution_count": 39,
   "metadata": {},
   "outputs": [],
   "source": [
    "powers = find_power_vect(imp_range)"
   ]
  },
  {
   "cell_type": "code",
   "execution_count": 40,
   "metadata": {},
   "outputs": [
    {
     "data": {
      "image/png": "[encoded data removed]",
      "text/plain": [
       "<Figure size 720x432 with 1 Axes>"
      ]
     },
     "metadata": {
      "needs_background": "light"
     },
     "output_type": "display_data"
    }
   ],
   "source": [
    "plt.figure(figsize = (10,6))\n",
    "\n",
    "fontsize = 16\n",
    "\n",
    "plt.plot(imp_range, powers, color = 'blue')\n",
    "plt.xlabel('Number of Impressions', fontsize = fontsize, fontweight = 'bold')\n",
    "plt.ylabel('Power', fontsize = fontsize, fontweight = 'bold')\n",
    "plt.title('Statistical Power\\n Base Rate: 2.5%\\n Minimum Effect: 1.0%', fontsize = fontsize)\n",
    "plt.xticks(fontsize = fontsize - 2)\n",
    "plt.yticks(fontsize = fontsize - 2)\n",
    "\n",
    "plt.tight_layout()\n",
    "plt.savefig('images/power_curve_1.png', dpi = 150);"
   ]
  },
  {
   "cell_type": "code",
   "execution_count": 41,
   "metadata": {},
   "outputs": [
    {
     "data": {
      "image/png": "[encoded data removed]",
      "text/plain": [
       "<Figure size 720x432 with 1 Axes>"
      ]
     },
     "metadata": {
      "needs_background": "light"
     },
     "output_type": "display_data"
    }
   ],
   "source": [
    "plt.figure(figsize = (10,6))\n",
    "\n",
    "fontsize = 16\n",
    "\n",
    "plt.plot(imp_range, powers, color = 'blue')\n",
    "plt.xlabel('Number of Impressions', fontsize = fontsize, fontweight = 'bold')\n",
    "plt.ylabel('Power', fontsize = fontsize, fontweight = 'bold')\n",
    "plt.title('Statistical Power\\n Base Rate: 2.5%\\n Minimum Effect: 0.5%', fontsize = fontsize)\n",
    "plt.xticks(fontsize = fontsize - 2)\n",
    "plt.yticks(fontsize = fontsize - 2)\n",
    "\n",
    "plt.tight_layout()\n",
    "\n",
    "xmin, xmax = plt.xlim()\n",
    "plt.hlines(y = 0.8, xmin = xmin, xmax = 15744, linestyle = '--', color = 'red')\n",
    "\n",
    "ymin, ymax = plt.ylim()\n",
    "plt.vlines(x = 15744, ymin = ymin, ymax = 0.8, linestyle = '--', color = 'red')\n",
    "\n",
    "plt.xlim(xmin, xmax)\n",
    "plt.ylim(ymin, ymax)\n",
    "\n",
    "\n",
    "plt.savefig('images/power_curve_1b.png', dpi = 150);"
   ]
  },
  {
   "cell_type": "code",
   "execution_count": 42,
   "metadata": {},
   "outputs": [
    {
     "data": {
      "image/png": "[encoded data removed]",
      "text/plain": [
       "<Figure size 720x432 with 1 Axes>"
      ]
     },
     "metadata": {
      "needs_background": "light"
     },
     "output_type": "display_data"
    }
   ],
   "source": [
    "min_sample = 4041\n",
    "\n",
    "\n",
    "plt.figure(figsize = (10,6))\n",
    "\n",
    "fontsize = 16\n",
    "\n",
    "plt.plot(imp_range, powers, color = 'blue')\n",
    "plt.xlabel('Number of Impressions', fontsize = fontsize, fontweight = 'bold')\n",
    "plt.ylabel('Power', fontsize = fontsize, fontweight = 'bold')\n",
    "plt.title('Statistical Power\\n Base Rate: 2.5%\\n Minimum Effect: 1%', fontsize = fontsize)\n",
    "plt.xticks(fontsize = fontsize - 2)\n",
    "plt.yticks(fontsize = fontsize - 2)\n",
    "\n",
    "plt.tight_layout()\n",
    "\n",
    "xmin, xmax = plt.xlim()\n",
    "plt.hlines(y = 0.8, xmin = xmin, xmax = min_sample, linestyle = '--', color = 'red')\n",
    "\n",
    "ymin, ymax = plt.ylim()\n",
    "plt.vlines(x = min_sample, ymin = ymin, ymax = 0.8, linestyle = '--', color = 'red')\n",
    "\n",
    "plt.xlim(xmin, xmax)\n",
    "plt.ylim(ymin, ymax)\n",
    "\n",
    "\n",
    "plt.savefig('images/power_curve_2b.png', dpi = 150);"
   ]
  },
  {
   "cell_type": "code",
   "execution_count": null,
   "metadata": {},
   "outputs": [],
   "source": []
  }
 ],
 "metadata": {
  "kernelspec": {
   "display_name": "Python 3",
   "language": "python",
   "name": "python3"
  },
  "language_info": {
   "codemirror_mode": {
    "name": "ipython",
    "version": 3
   },
   "file_extension": ".py",
   "mimetype": "text/x-python",
   "name": "python",
   "nbconvert_exporter": "python",
   "pygments_lexer": "ipython3",
   "version": "3.8.5"
  }
 },
 "nbformat": 4,
 "nbformat_minor": 4
}
